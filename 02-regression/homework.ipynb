{
 "cells": [
  {
   "cell_type": "code",
   "execution_count": 1,
   "id": "bc29b144-3195-4bb7-a5db-f89d966af942",
   "metadata": {},
   "outputs": [
    {
     "name": "stdout",
     "output_type": "stream",
     "text": [
      "Python 3.11.9\n"
     ]
    }
   ],
   "source": [
    "!python --version"
   ]
  },
  {
   "cell_type": "code",
   "execution_count": 2,
   "id": "404485bb-306e-4613-b67b-44b1ff86407b",
   "metadata": {},
   "outputs": [],
   "source": [
    "import pandas as pd\n",
    "import numpy as np\n",
    "\n",
    "import seaborn as sns\n",
    "from matplotlib import pyplot as plt\n",
    "%matplotlib inline"
   ]
  },
  {
   "cell_type": "code",
   "execution_count": 3,
   "id": "3adf63b1-c797-4eca-80c8-629c3981d40a",
   "metadata": {},
   "outputs": [],
   "source": [
    "!mkdir dataset"
   ]
  },
  {
   "cell_type": "code",
   "execution_count": 4,
   "id": "4c96675f-57da-4096-8cfd-075ce07bf9c8",
   "metadata": {},
   "outputs": [
    {
     "name": "stdout",
     "output_type": "stream",
     "text": [
      "--2024-10-09 23:31:57--  https://raw.githubusercontent.com/alexeygrigorev/datasets/master/laptops.csv\n",
      "Resolving raw.githubusercontent.com (raw.githubusercontent.com)... 185.199.109.133, 185.199.110.133, 185.199.111.133, ...\n",
      "Connecting to raw.githubusercontent.com (raw.githubusercontent.com)|185.199.109.133|:443... connected.\n",
      "HTTP request sent, awaiting response... 200 OK\n",
      "Length: 298573 (292K) [text/plain]\n",
      "Saving to: ‘laptops.csv’\n",
      "\n",
      "laptops.csv         100%[===================>] 291.58K  --.-KB/s    in 0.08s   \n",
      "\n",
      "2024-10-09 23:31:57 (3.78 MB/s) - ‘laptops.csv’ saved [298573/298573]\n",
      "\n"
     ]
    }
   ],
   "source": [
    "!wget https://raw.githubusercontent.com/alexeygrigorev/datasets/master/laptops.csv "
   ]
  },
  {
   "cell_type": "code",
   "execution_count": 5,
   "id": "ff860c31-1723-44fe-974d-e174443a67d6",
   "metadata": {},
   "outputs": [],
   "source": [
    "!mv laptops.csv dataset"
   ]
  },
  {
   "cell_type": "code",
   "execution_count": 6,
   "id": "4ee6da85-533a-488b-9c3c-17b390c27a51",
   "metadata": {},
   "outputs": [
    {
     "name": "stdout",
     "output_type": "stream",
     "text": [
      "laptops.csv\n"
     ]
    }
   ],
   "source": [
    "!ls dataset"
   ]
  },
  {
   "cell_type": "code",
   "execution_count": 7,
   "id": "e43c08c8-38d4-4989-83a5-040408c0e722",
   "metadata": {},
   "outputs": [
    {
     "data": {
      "text/plain": [
       "2160"
      ]
     },
     "execution_count": 7,
     "metadata": {},
     "output_type": "execute_result"
    }
   ],
   "source": [
    "df = pd.read_csv('dataset/laptops.csv')\n",
    "len(df)"
   ]
  },
  {
   "cell_type": "code",
   "execution_count": 8,
   "id": "70b86dd4-5c63-4e66-9a8b-dc76d23823cd",
   "metadata": {},
   "outputs": [
    {
     "data": {
      "text/html": [
       "<div>\n",
       "<style scoped>\n",
       "    .dataframe tbody tr th:only-of-type {\n",
       "        vertical-align: middle;\n",
       "    }\n",
       "\n",
       "    .dataframe tbody tr th {\n",
       "        vertical-align: top;\n",
       "    }\n",
       "\n",
       "    .dataframe thead th {\n",
       "        text-align: right;\n",
       "    }\n",
       "</style>\n",
       "<table border=\"1\" class=\"dataframe\">\n",
       "  <thead>\n",
       "    <tr style=\"text-align: right;\">\n",
       "      <th></th>\n",
       "      <th>Laptop</th>\n",
       "      <th>Status</th>\n",
       "      <th>Brand</th>\n",
       "      <th>Model</th>\n",
       "      <th>CPU</th>\n",
       "      <th>RAM</th>\n",
       "      <th>Storage</th>\n",
       "      <th>Storage type</th>\n",
       "      <th>GPU</th>\n",
       "      <th>Screen</th>\n",
       "      <th>Touch</th>\n",
       "      <th>Final Price</th>\n",
       "    </tr>\n",
       "  </thead>\n",
       "  <tbody>\n",
       "    <tr>\n",
       "      <th>0</th>\n",
       "      <td>ASUS ExpertBook B1 B1502CBA-EJ0436X Intel Core...</td>\n",
       "      <td>New</td>\n",
       "      <td>Asus</td>\n",
       "      <td>ExpertBook</td>\n",
       "      <td>Intel Core i5</td>\n",
       "      <td>8</td>\n",
       "      <td>512</td>\n",
       "      <td>SSD</td>\n",
       "      <td>NaN</td>\n",
       "      <td>15.6</td>\n",
       "      <td>No</td>\n",
       "      <td>1009.00</td>\n",
       "    </tr>\n",
       "    <tr>\n",
       "      <th>1</th>\n",
       "      <td>Alurin Go Start Intel Celeron N4020/8GB/256GB ...</td>\n",
       "      <td>New</td>\n",
       "      <td>Alurin</td>\n",
       "      <td>Go</td>\n",
       "      <td>Intel Celeron</td>\n",
       "      <td>8</td>\n",
       "      <td>256</td>\n",
       "      <td>SSD</td>\n",
       "      <td>NaN</td>\n",
       "      <td>15.6</td>\n",
       "      <td>No</td>\n",
       "      <td>299.00</td>\n",
       "    </tr>\n",
       "    <tr>\n",
       "      <th>2</th>\n",
       "      <td>ASUS ExpertBook B1 B1502CBA-EJ0424X Intel Core...</td>\n",
       "      <td>New</td>\n",
       "      <td>Asus</td>\n",
       "      <td>ExpertBook</td>\n",
       "      <td>Intel Core i3</td>\n",
       "      <td>8</td>\n",
       "      <td>256</td>\n",
       "      <td>SSD</td>\n",
       "      <td>NaN</td>\n",
       "      <td>15.6</td>\n",
       "      <td>No</td>\n",
       "      <td>789.00</td>\n",
       "    </tr>\n",
       "    <tr>\n",
       "      <th>3</th>\n",
       "      <td>MSI Katana GF66 12UC-082XES Intel Core i7-1270...</td>\n",
       "      <td>New</td>\n",
       "      <td>MSI</td>\n",
       "      <td>Katana</td>\n",
       "      <td>Intel Core i7</td>\n",
       "      <td>16</td>\n",
       "      <td>1000</td>\n",
       "      <td>SSD</td>\n",
       "      <td>RTX 3050</td>\n",
       "      <td>15.6</td>\n",
       "      <td>No</td>\n",
       "      <td>1199.00</td>\n",
       "    </tr>\n",
       "    <tr>\n",
       "      <th>4</th>\n",
       "      <td>HP 15S-FQ5085NS Intel Core i5-1235U/16GB/512GB...</td>\n",
       "      <td>New</td>\n",
       "      <td>HP</td>\n",
       "      <td>15S</td>\n",
       "      <td>Intel Core i5</td>\n",
       "      <td>16</td>\n",
       "      <td>512</td>\n",
       "      <td>SSD</td>\n",
       "      <td>NaN</td>\n",
       "      <td>15.6</td>\n",
       "      <td>No</td>\n",
       "      <td>669.01</td>\n",
       "    </tr>\n",
       "  </tbody>\n",
       "</table>\n",
       "</div>"
      ],
      "text/plain": [
       "                                              Laptop Status   Brand  \\\n",
       "0  ASUS ExpertBook B1 B1502CBA-EJ0436X Intel Core...    New    Asus   \n",
       "1  Alurin Go Start Intel Celeron N4020/8GB/256GB ...    New  Alurin   \n",
       "2  ASUS ExpertBook B1 B1502CBA-EJ0424X Intel Core...    New    Asus   \n",
       "3  MSI Katana GF66 12UC-082XES Intel Core i7-1270...    New     MSI   \n",
       "4  HP 15S-FQ5085NS Intel Core i5-1235U/16GB/512GB...    New      HP   \n",
       "\n",
       "        Model            CPU  RAM  Storage Storage type       GPU  Screen  \\\n",
       "0  ExpertBook  Intel Core i5    8      512          SSD       NaN    15.6   \n",
       "1          Go  Intel Celeron    8      256          SSD       NaN    15.6   \n",
       "2  ExpertBook  Intel Core i3    8      256          SSD       NaN    15.6   \n",
       "3      Katana  Intel Core i7   16     1000          SSD  RTX 3050    15.6   \n",
       "4         15S  Intel Core i5   16      512          SSD       NaN    15.6   \n",
       "\n",
       "  Touch  Final Price  \n",
       "0    No      1009.00  \n",
       "1    No       299.00  \n",
       "2    No       789.00  \n",
       "3    No      1199.00  \n",
       "4    No       669.01  "
      ]
     },
     "execution_count": 8,
     "metadata": {},
     "output_type": "execute_result"
    }
   ],
   "source": [
    "df.head()"
   ]
  },
  {
   "cell_type": "code",
   "execution_count": 9,
   "id": "fb118495-417d-4067-9751-ac8586a83fd3",
   "metadata": {},
   "outputs": [],
   "source": [
    "def preparing_dataset(df):\n",
    "    df.columns = df.columns.str.lower().str.replace(\" \", \"_\")\n",
    "    \n",
    "    string_columns = list(df.dtypes[df.dtypes == 'object'].index)\n",
    "    for col in string_columns:\n",
    "        df[col] = df[col].str.lower().str.replace(' ', '_')\n",
    "    return df"
   ]
  },
  {
   "cell_type": "code",
   "execution_count": 10,
   "id": "65bae062-982d-4081-ae68-4116437f7c73",
   "metadata": {},
   "outputs": [
    {
     "data": {
      "text/html": [
       "<div>\n",
       "<style scoped>\n",
       "    .dataframe tbody tr th:only-of-type {\n",
       "        vertical-align: middle;\n",
       "    }\n",
       "\n",
       "    .dataframe tbody tr th {\n",
       "        vertical-align: top;\n",
       "    }\n",
       "\n",
       "    .dataframe thead th {\n",
       "        text-align: right;\n",
       "    }\n",
       "</style>\n",
       "<table border=\"1\" class=\"dataframe\">\n",
       "  <thead>\n",
       "    <tr style=\"text-align: right;\">\n",
       "      <th></th>\n",
       "      <th>laptop</th>\n",
       "      <th>status</th>\n",
       "      <th>brand</th>\n",
       "      <th>model</th>\n",
       "      <th>cpu</th>\n",
       "      <th>ram</th>\n",
       "      <th>storage</th>\n",
       "      <th>storage_type</th>\n",
       "      <th>gpu</th>\n",
       "      <th>screen</th>\n",
       "      <th>touch</th>\n",
       "      <th>final_price</th>\n",
       "    </tr>\n",
       "  </thead>\n",
       "  <tbody>\n",
       "    <tr>\n",
       "      <th>2155</th>\n",
       "      <td>razer_blade_17_fhd_360hz_intel_core_i7-11800h/...</td>\n",
       "      <td>refurbished</td>\n",
       "      <td>razer</td>\n",
       "      <td>blade</td>\n",
       "      <td>intel_core_i7</td>\n",
       "      <td>16</td>\n",
       "      <td>1000</td>\n",
       "      <td>ssd</td>\n",
       "      <td>rtx_3060</td>\n",
       "      <td>17.3</td>\n",
       "      <td>no</td>\n",
       "      <td>2699.99</td>\n",
       "    </tr>\n",
       "    <tr>\n",
       "      <th>2156</th>\n",
       "      <td>razer_blade_17_fhd_360hz_intel_core_i7-11800h/...</td>\n",
       "      <td>refurbished</td>\n",
       "      <td>razer</td>\n",
       "      <td>blade</td>\n",
       "      <td>intel_core_i7</td>\n",
       "      <td>16</td>\n",
       "      <td>1000</td>\n",
       "      <td>ssd</td>\n",
       "      <td>rtx_3070</td>\n",
       "      <td>17.3</td>\n",
       "      <td>no</td>\n",
       "      <td>2899.99</td>\n",
       "    </tr>\n",
       "    <tr>\n",
       "      <th>2157</th>\n",
       "      <td>razer_blade_17_fhd_360hz_intel_core_i7-11800h/...</td>\n",
       "      <td>refurbished</td>\n",
       "      <td>razer</td>\n",
       "      <td>blade</td>\n",
       "      <td>intel_core_i7</td>\n",
       "      <td>32</td>\n",
       "      <td>1000</td>\n",
       "      <td>ssd</td>\n",
       "      <td>rtx_3080</td>\n",
       "      <td>17.3</td>\n",
       "      <td>no</td>\n",
       "      <td>3399.99</td>\n",
       "    </tr>\n",
       "    <tr>\n",
       "      <th>2158</th>\n",
       "      <td>razer_book_13_intel_evo_core_i7-1165g7/16gb/1t...</td>\n",
       "      <td>refurbished</td>\n",
       "      <td>razer</td>\n",
       "      <td>book</td>\n",
       "      <td>intel_evo_core_i7</td>\n",
       "      <td>16</td>\n",
       "      <td>1000</td>\n",
       "      <td>ssd</td>\n",
       "      <td>NaN</td>\n",
       "      <td>13.4</td>\n",
       "      <td>yes</td>\n",
       "      <td>1899.99</td>\n",
       "    </tr>\n",
       "    <tr>\n",
       "      <th>2159</th>\n",
       "      <td>razer_book_fhd+_intel_evo_core_i7-1165g7/16gb/...</td>\n",
       "      <td>refurbished</td>\n",
       "      <td>razer</td>\n",
       "      <td>book</td>\n",
       "      <td>intel_evo_core_i7</td>\n",
       "      <td>16</td>\n",
       "      <td>256</td>\n",
       "      <td>ssd</td>\n",
       "      <td>NaN</td>\n",
       "      <td>13.4</td>\n",
       "      <td>yes</td>\n",
       "      <td>1699.99</td>\n",
       "    </tr>\n",
       "  </tbody>\n",
       "</table>\n",
       "</div>"
      ],
      "text/plain": [
       "                                                 laptop       status  brand  \\\n",
       "2155  razer_blade_17_fhd_360hz_intel_core_i7-11800h/...  refurbished  razer   \n",
       "2156  razer_blade_17_fhd_360hz_intel_core_i7-11800h/...  refurbished  razer   \n",
       "2157  razer_blade_17_fhd_360hz_intel_core_i7-11800h/...  refurbished  razer   \n",
       "2158  razer_book_13_intel_evo_core_i7-1165g7/16gb/1t...  refurbished  razer   \n",
       "2159  razer_book_fhd+_intel_evo_core_i7-1165g7/16gb/...  refurbished  razer   \n",
       "\n",
       "      model                cpu  ram  storage storage_type       gpu  screen  \\\n",
       "2155  blade      intel_core_i7   16     1000          ssd  rtx_3060    17.3   \n",
       "2156  blade      intel_core_i7   16     1000          ssd  rtx_3070    17.3   \n",
       "2157  blade      intel_core_i7   32     1000          ssd  rtx_3080    17.3   \n",
       "2158   book  intel_evo_core_i7   16     1000          ssd       NaN    13.4   \n",
       "2159   book  intel_evo_core_i7   16      256          ssd       NaN    13.4   \n",
       "\n",
       "     touch  final_price  \n",
       "2155    no      2699.99  \n",
       "2156    no      2899.99  \n",
       "2157    no      3399.99  \n",
       "2158   yes      1899.99  \n",
       "2159   yes      1699.99  "
      ]
     },
     "execution_count": 10,
     "metadata": {},
     "output_type": "execute_result"
    }
   ],
   "source": [
    "df = preparing_dataset(df)\n",
    "df.tail()"
   ]
  },
  {
   "cell_type": "code",
   "execution_count": 11,
   "id": "cec24042-2508-4370-95c3-8b67a26b6996",
   "metadata": {},
   "outputs": [
    {
     "data": {
      "text/plain": [
       "laptop           object\n",
       "status           object\n",
       "brand            object\n",
       "model            object\n",
       "cpu              object\n",
       "ram               int64\n",
       "storage           int64\n",
       "storage_type     object\n",
       "gpu              object\n",
       "screen          float64\n",
       "touch            object\n",
       "final_price     float64\n",
       "dtype: object"
      ]
     },
     "execution_count": 11,
     "metadata": {},
     "output_type": "execute_result"
    }
   ],
   "source": [
    "df.dtypes"
   ]
  },
  {
   "cell_type": "markdown",
   "id": "7e0eb871-e015-414a-9c65-1dae73821086",
   "metadata": {},
   "source": [
    "### EDA"
   ]
  },
  {
   "cell_type": "code",
   "execution_count": 12,
   "id": "2c8e94dc-f729-4a61-9352-acfc9024309d",
   "metadata": {},
   "outputs": [
    {
     "data": {
      "image/png": "[encoded data removed]",
      "text/plain": [
       "<Figure size 1200x800 with 1 Axes>"
      ]
     },
     "metadata": {},
     "output_type": "display_data"
    }
   ],
   "source": [
    "plt.figure(figsize=(12, 8))\n",
    "\n",
    "sns.histplot(df.final_price, bins=500, color='black', alpha=1)\n",
    "plt.ylabel('Frequency')\n",
    "plt.xlabel('Final Price')\n",
    "plt.title('Distribution of prices')\n",
    "\n",
    "plt.show()"
   ]
  },
  {
   "cell_type": "code",
   "execution_count": 13,
   "id": "bfcee2a2-0155-4857-bcdd-dc3db533c5ff",
   "metadata": {},
   "outputs": [
    {
     "data": {
      "text/plain": [
       "['ram', 'storage', 'screen', 'final_price']"
      ]
     },
     "execution_count": 13,
     "metadata": {},
     "output_type": "execute_result"
    }
   ],
   "source": [
    "columns_base = ['ram', 'storage', 'screen', 'final_price']\n",
    "columns_base"
   ]
  },
  {
   "cell_type": "code",
   "execution_count": 14,
   "id": "355d36f6-d4ad-4e36-9a8c-a1b50cacd7c9",
   "metadata": {},
   "outputs": [],
   "source": [
    "final_price_log = np.log1p(df.final_price)"
   ]
  },
  {
   "cell_type": "code",
   "execution_count": 15,
   "id": "cc574b5e-7261-4526-9963-1a04edf43ee8",
   "metadata": {},
   "outputs": [
    {
     "data": {
      "image/png": "[encoded data removed]",
      "text/plain": [
       "<Figure size 1200x800 with 1 Axes>"
      ]
     },
     "metadata": {},
     "output_type": "display_data"
    }
   ],
   "source": [
    "plt.figure(figsize=(12, 8))\n",
    "\n",
    "sns.histplot(final_price_log, bins=500, color='black', alpha=1)\n",
    "plt.ylabel('Frequency')\n",
    "plt.xlabel('Log(Final Price + 1)')\n",
    "plt.title('Distribution of prices')\n",
    "\n",
    "plt.show()"
   ]
  },
  {
   "cell_type": "markdown",
   "id": "859f443a-9723-490c-a180-ff9b438b84b5",
   "metadata": {},
   "source": [
    "## Question 1"
   ]
  },
  {
   "cell_type": "code",
   "execution_count": 16,
   "id": "f7299a97-0a98-4fde-9b64-2b6907a0f852",
   "metadata": {},
   "outputs": [
    {
     "data": {
      "text/plain": [
       "ram            0\n",
       "storage        0\n",
       "screen         4\n",
       "final_price    0\n",
       "dtype: int64"
      ]
     },
     "execution_count": 16,
     "metadata": {},
     "output_type": "execute_result"
    }
   ],
   "source": [
    "df[columns_base].isnull().sum()"
   ]
  },
  {
   "cell_type": "markdown",
   "id": "1e2c47da-e841-4c2c-9e8b-675287fe146b",
   "metadata": {},
   "source": [
    "## Question 2"
   ]
  },
  {
   "cell_type": "code",
   "execution_count": 17,
   "id": "5dad5d82-9cfb-40dc-864e-58572e67aa5a",
   "metadata": {},
   "outputs": [
    {
     "data": {
      "text/plain": [
       "16.0"
      ]
     },
     "execution_count": 17,
     "metadata": {},
     "output_type": "execute_result"
    }
   ],
   "source": [
    "df['ram'].median()"
   ]
  },
  {
   "cell_type": "code",
   "execution_count": 18,
   "id": "d501cb1f-dcdb-49c9-8803-e7f96de1b239",
   "metadata": {},
   "outputs": [
    {
     "data": {
      "text/plain": [
       "16.0"
      ]
     },
     "execution_count": 18,
     "metadata": {},
     "output_type": "execute_result"
    }
   ],
   "source": [
    "df['ram'].quantile(0.5)"
   ]
  },
  {
   "cell_type": "code",
   "execution_count": 19,
   "id": "f594a9e9-a713-4bd5-aa4e-c1c1b864c278",
   "metadata": {},
   "outputs": [
    {
     "data": {
      "text/plain": [
       "count    2160.000000\n",
       "mean       15.413889\n",
       "std         9.867815\n",
       "min         4.000000\n",
       "25%         8.000000\n",
       "50%        16.000000\n",
       "75%        16.000000\n",
       "max       128.000000\n",
       "Name: ram, dtype: float64"
      ]
     },
     "execution_count": 19,
     "metadata": {},
     "output_type": "execute_result"
    }
   ],
   "source": [
    "df['ram'].describe()"
   ]
  },
  {
   "cell_type": "code",
   "execution_count": 20,
   "id": "1a305fbb-1901-4445-9d3d-e3deec228fda",
   "metadata": {},
   "outputs": [
    {
     "data": {
      "text/plain": [
       "2160"
      ]
     },
     "execution_count": 20,
     "metadata": {},
     "output_type": "execute_result"
    }
   ],
   "source": [
    "np.random.seed(42)\n",
    "n = len(df)\n",
    "n"
   ]
  },
  {
   "cell_type": "code",
   "execution_count": 21,
   "id": "53028c29-6b57-45b5-a68a-45d753120695",
   "metadata": {},
   "outputs": [],
   "source": [
    "n_val = int(0.2 * n)\n",
    "n_test = int(0.2 * n)\n",
    "n_train = n - (n_val + n_test)"
   ]
  },
  {
   "cell_type": "code",
   "execution_count": 22,
   "id": "bf710e57-5bf4-4b76-97c6-c4e6c698905a",
   "metadata": {},
   "outputs": [
    {
     "data": {
      "text/plain": [
       "array([2079,  668, 2073, ..., 1130, 1294,  860])"
      ]
     },
     "execution_count": 22,
     "metadata": {},
     "output_type": "execute_result"
    }
   ],
   "source": [
    "idx = np.arange(n)\n",
    "np.random.shuffle(idx)\n",
    "idx"
   ]
  },
  {
   "cell_type": "code",
   "execution_count": 23,
   "id": "0f3f2c25-866d-4bf0-ada4-dd3dafde4493",
   "metadata": {},
   "outputs": [
    {
     "data": {
      "text/html": [
       "<div>\n",
       "<style scoped>\n",
       "    .dataframe tbody tr th:only-of-type {\n",
       "        vertical-align: middle;\n",
       "    }\n",
       "\n",
       "    .dataframe tbody tr th {\n",
       "        vertical-align: top;\n",
       "    }\n",
       "\n",
       "    .dataframe thead th {\n",
       "        text-align: right;\n",
       "    }\n",
       "</style>\n",
       "<table border=\"1\" class=\"dataframe\">\n",
       "  <thead>\n",
       "    <tr style=\"text-align: right;\">\n",
       "      <th></th>\n",
       "      <th>laptop</th>\n",
       "      <th>status</th>\n",
       "      <th>brand</th>\n",
       "      <th>model</th>\n",
       "      <th>cpu</th>\n",
       "      <th>ram</th>\n",
       "      <th>storage</th>\n",
       "      <th>storage_type</th>\n",
       "      <th>gpu</th>\n",
       "      <th>screen</th>\n",
       "      <th>touch</th>\n",
       "      <th>final_price</th>\n",
       "    </tr>\n",
       "  </thead>\n",
       "  <tbody>\n",
       "    <tr>\n",
       "      <th>2079</th>\n",
       "      <td>msi_modern_15_a11sbu-620xes_intel_core_i7-1165...</td>\n",
       "      <td>refurbished</td>\n",
       "      <td>msi</td>\n",
       "      <td>modern</td>\n",
       "      <td>intel_core_i7</td>\n",
       "      <td>32</td>\n",
       "      <td>1000</td>\n",
       "      <td>ssd</td>\n",
       "      <td>mx_450</td>\n",
       "      <td>15.6</td>\n",
       "      <td>no</td>\n",
       "      <td>1123.29</td>\n",
       "    </tr>\n",
       "    <tr>\n",
       "      <th>668</th>\n",
       "      <td>thomson_neo_white_intel_celeron_n4020/4gb/64gb...</td>\n",
       "      <td>new</td>\n",
       "      <td>thomson</td>\n",
       "      <td>neo</td>\n",
       "      <td>intel_celeron</td>\n",
       "      <td>4</td>\n",
       "      <td>64</td>\n",
       "      <td>emmc</td>\n",
       "      <td>NaN</td>\n",
       "      <td>14.1</td>\n",
       "      <td>no</td>\n",
       "      <td>201.05</td>\n",
       "    </tr>\n",
       "    <tr>\n",
       "      <th>2073</th>\n",
       "      <td>msi_modern_14_b11sb-420xes_intel_core_i7-1165g...</td>\n",
       "      <td>refurbished</td>\n",
       "      <td>msi</td>\n",
       "      <td>modern</td>\n",
       "      <td>intel_core_i7</td>\n",
       "      <td>32</td>\n",
       "      <td>1000</td>\n",
       "      <td>ssd</td>\n",
       "      <td>mx_450</td>\n",
       "      <td>14.0</td>\n",
       "      <td>no</td>\n",
       "      <td>997.74</td>\n",
       "    </tr>\n",
       "    <tr>\n",
       "      <th>1113</th>\n",
       "      <td>asus_zenbook_13_oled_ux325ea_intel_evo_core_i7...</td>\n",
       "      <td>new</td>\n",
       "      <td>asus</td>\n",
       "      <td>zenbook</td>\n",
       "      <td>intel_evo_core_i7</td>\n",
       "      <td>16</td>\n",
       "      <td>512</td>\n",
       "      <td>ssd</td>\n",
       "      <td>NaN</td>\n",
       "      <td>13.3</td>\n",
       "      <td>no</td>\n",
       "      <td>1016.00</td>\n",
       "    </tr>\n",
       "    <tr>\n",
       "      <th>788</th>\n",
       "      <td>acer_predator_triton_500_se_pt516-51s-75k6_int...</td>\n",
       "      <td>new</td>\n",
       "      <td>acer</td>\n",
       "      <td>predator</td>\n",
       "      <td>intel_core_i7</td>\n",
       "      <td>32</td>\n",
       "      <td>1000</td>\n",
       "      <td>ssd</td>\n",
       "      <td>rtx_3080</td>\n",
       "      <td>16.0</td>\n",
       "      <td>no</td>\n",
       "      <td>2739.00</td>\n",
       "    </tr>\n",
       "  </tbody>\n",
       "</table>\n",
       "</div>"
      ],
      "text/plain": [
       "                                                 laptop       status    brand  \\\n",
       "2079  msi_modern_15_a11sbu-620xes_intel_core_i7-1165...  refurbished      msi   \n",
       "668   thomson_neo_white_intel_celeron_n4020/4gb/64gb...          new  thomson   \n",
       "2073  msi_modern_14_b11sb-420xes_intel_core_i7-1165g...  refurbished      msi   \n",
       "1113  asus_zenbook_13_oled_ux325ea_intel_evo_core_i7...          new     asus   \n",
       "788   acer_predator_triton_500_se_pt516-51s-75k6_int...          new     acer   \n",
       "\n",
       "         model                cpu  ram  storage storage_type       gpu  \\\n",
       "2079    modern      intel_core_i7   32     1000          ssd    mx_450   \n",
       "668        neo      intel_celeron    4       64         emmc       NaN   \n",
       "2073    modern      intel_core_i7   32     1000          ssd    mx_450   \n",
       "1113   zenbook  intel_evo_core_i7   16      512          ssd       NaN   \n",
       "788   predator      intel_core_i7   32     1000          ssd  rtx_3080   \n",
       "\n",
       "      screen touch  final_price  \n",
       "2079    15.6    no      1123.29  \n",
       "668     14.1    no       201.05  \n",
       "2073    14.0    no       997.74  \n",
       "1113    13.3    no      1016.00  \n",
       "788     16.0    no      2739.00  "
      ]
     },
     "execution_count": 23,
     "metadata": {},
     "output_type": "execute_result"
    }
   ],
   "source": [
    "df_shuffled = df.iloc[idx]\n",
    "df_shuffled.head()"
   ]
  },
  {
   "cell_type": "code",
   "execution_count": 24,
   "id": "638c7bd3-881b-4f96-90b8-b42d9fee1dc7",
   "metadata": {},
   "outputs": [
    {
     "data": {
      "text/html": [
       "<div>\n",
       "<style scoped>\n",
       "    .dataframe tbody tr th:only-of-type {\n",
       "        vertical-align: middle;\n",
       "    }\n",
       "\n",
       "    .dataframe tbody tr th {\n",
       "        vertical-align: top;\n",
       "    }\n",
       "\n",
       "    .dataframe thead th {\n",
       "        text-align: right;\n",
       "    }\n",
       "</style>\n",
       "<table border=\"1\" class=\"dataframe\">\n",
       "  <thead>\n",
       "    <tr style=\"text-align: right;\">\n",
       "      <th></th>\n",
       "      <th>index</th>\n",
       "      <th>laptop</th>\n",
       "      <th>status</th>\n",
       "      <th>brand</th>\n",
       "      <th>model</th>\n",
       "      <th>cpu</th>\n",
       "      <th>ram</th>\n",
       "      <th>storage</th>\n",
       "      <th>storage_type</th>\n",
       "      <th>gpu</th>\n",
       "      <th>screen</th>\n",
       "      <th>touch</th>\n",
       "      <th>final_price</th>\n",
       "    </tr>\n",
       "  </thead>\n",
       "  <tbody>\n",
       "    <tr>\n",
       "      <th>0</th>\n",
       "      <td>2079</td>\n",
       "      <td>msi_modern_15_a11sbu-620xes_intel_core_i7-1165...</td>\n",
       "      <td>refurbished</td>\n",
       "      <td>msi</td>\n",
       "      <td>modern</td>\n",
       "      <td>intel_core_i7</td>\n",
       "      <td>32</td>\n",
       "      <td>1000</td>\n",
       "      <td>ssd</td>\n",
       "      <td>mx_450</td>\n",
       "      <td>15.6</td>\n",
       "      <td>no</td>\n",
       "      <td>1123.29</td>\n",
       "    </tr>\n",
       "    <tr>\n",
       "      <th>1</th>\n",
       "      <td>668</td>\n",
       "      <td>thomson_neo_white_intel_celeron_n4020/4gb/64gb...</td>\n",
       "      <td>new</td>\n",
       "      <td>thomson</td>\n",
       "      <td>neo</td>\n",
       "      <td>intel_celeron</td>\n",
       "      <td>4</td>\n",
       "      <td>64</td>\n",
       "      <td>emmc</td>\n",
       "      <td>NaN</td>\n",
       "      <td>14.1</td>\n",
       "      <td>no</td>\n",
       "      <td>201.05</td>\n",
       "    </tr>\n",
       "    <tr>\n",
       "      <th>2</th>\n",
       "      <td>2073</td>\n",
       "      <td>msi_modern_14_b11sb-420xes_intel_core_i7-1165g...</td>\n",
       "      <td>refurbished</td>\n",
       "      <td>msi</td>\n",
       "      <td>modern</td>\n",
       "      <td>intel_core_i7</td>\n",
       "      <td>32</td>\n",
       "      <td>1000</td>\n",
       "      <td>ssd</td>\n",
       "      <td>mx_450</td>\n",
       "      <td>14.0</td>\n",
       "      <td>no</td>\n",
       "      <td>997.74</td>\n",
       "    </tr>\n",
       "    <tr>\n",
       "      <th>3</th>\n",
       "      <td>1113</td>\n",
       "      <td>asus_zenbook_13_oled_ux325ea_intel_evo_core_i7...</td>\n",
       "      <td>new</td>\n",
       "      <td>asus</td>\n",
       "      <td>zenbook</td>\n",
       "      <td>intel_evo_core_i7</td>\n",
       "      <td>16</td>\n",
       "      <td>512</td>\n",
       "      <td>ssd</td>\n",
       "      <td>NaN</td>\n",
       "      <td>13.3</td>\n",
       "      <td>no</td>\n",
       "      <td>1016.00</td>\n",
       "    </tr>\n",
       "    <tr>\n",
       "      <th>4</th>\n",
       "      <td>788</td>\n",
       "      <td>acer_predator_triton_500_se_pt516-51s-75k6_int...</td>\n",
       "      <td>new</td>\n",
       "      <td>acer</td>\n",
       "      <td>predator</td>\n",
       "      <td>intel_core_i7</td>\n",
       "      <td>32</td>\n",
       "      <td>1000</td>\n",
       "      <td>ssd</td>\n",
       "      <td>rtx_3080</td>\n",
       "      <td>16.0</td>\n",
       "      <td>no</td>\n",
       "      <td>2739.00</td>\n",
       "    </tr>\n",
       "  </tbody>\n",
       "</table>\n",
       "</div>"
      ],
      "text/plain": [
       "   index                                             laptop       status  \\\n",
       "0   2079  msi_modern_15_a11sbu-620xes_intel_core_i7-1165...  refurbished   \n",
       "1    668  thomson_neo_white_intel_celeron_n4020/4gb/64gb...          new   \n",
       "2   2073  msi_modern_14_b11sb-420xes_intel_core_i7-1165g...  refurbished   \n",
       "3   1113  asus_zenbook_13_oled_ux325ea_intel_evo_core_i7...          new   \n",
       "4    788  acer_predator_triton_500_se_pt516-51s-75k6_int...          new   \n",
       "\n",
       "     brand     model                cpu  ram  storage storage_type       gpu  \\\n",
       "0      msi    modern      intel_core_i7   32     1000          ssd    mx_450   \n",
       "1  thomson       neo      intel_celeron    4       64         emmc       NaN   \n",
       "2      msi    modern      intel_core_i7   32     1000          ssd    mx_450   \n",
       "3     asus   zenbook  intel_evo_core_i7   16      512          ssd       NaN   \n",
       "4     acer  predator      intel_core_i7   32     1000          ssd  rtx_3080   \n",
       "\n",
       "   screen touch  final_price  \n",
       "0    15.6    no      1123.29  \n",
       "1    14.1    no       201.05  \n",
       "2    14.0    no       997.74  \n",
       "3    13.3    no      1016.00  \n",
       "4    16.0    no      2739.00  "
      ]
     },
     "execution_count": 24,
     "metadata": {},
     "output_type": "execute_result"
    }
   ],
   "source": [
    "df_shuffled.reset_index(inplace=True)\n",
    "df_shuffled.head()"
   ]
  },
  {
   "cell_type": "code",
   "execution_count": 25,
   "id": "eece0dfb-ad1e-4feb-941b-4766077f834d",
   "metadata": {},
   "outputs": [],
   "source": [
    "df_train = df_shuffled.iloc[:n_train].copy()\n",
    "df_val = df_shuffled.iloc[n_train:n_train+n_val].copy()\n",
    "df_test = df_shuffled.iloc[n_train+n_val:].copy()"
   ]
  },
  {
   "cell_type": "code",
   "execution_count": 26,
   "id": "f00a1ca7-4d72-4333-9c38-a3f5a9d2ec90",
   "metadata": {},
   "outputs": [],
   "source": [
    "y_train_orig = df_train.final_price.values\n",
    "y_val_orig = df_val.final_price.values\n",
    "y_test_orig = df_test.final_price.values\n",
    "\n",
    "y_train = np.log1p(df_train.final_price.values)\n",
    "y_val = np.log1p(df_val.final_price.values)\n",
    "y_test = np.log1p(df_test.final_price.values)"
   ]
  },
  {
   "cell_type": "code",
   "execution_count": 27,
   "id": "4c8d2fd8-42d3-4ce0-9d92-25608aefdb2d",
   "metadata": {},
   "outputs": [],
   "source": [
    "df_train.drop(columns=['final_price'], inplace=True)\n",
    "df_val.drop(columns=['final_price'], inplace=True)\n",
    "df_test.drop(columns=['final_price'], inplace=True)"
   ]
  },
  {
   "cell_type": "markdown",
   "id": "a50cd49e-c3f3-48be-906f-4f75b023124d",
   "metadata": {},
   "source": [
    "## Question 3"
   ]
  },
  {
   "cell_type": "code",
   "execution_count": 28,
   "id": "bcc49681-1e98-4715-8060-9c92fb9fac7e",
   "metadata": {},
   "outputs": [],
   "source": [
    "def train_linear_regression(X, y):\n",
    "    ones = np.ones(X.shape[0])\n",
    "    X = np.column_stack([ones, X])\n",
    "\n",
    "    XTX = X.T.dot(X)\n",
    "    XTX_inv = np.linalg.inv(XTX)\n",
    "    w = XTX_inv.dot(X.T).dot(y)\n",
    "    \n",
    "    return w[0], w[1:]"
   ]
  },
  {
   "cell_type": "code",
   "execution_count": 29,
   "id": "d653264c-26c7-4307-80bc-4bbf9ca9432e",
   "metadata": {},
   "outputs": [],
   "source": [
    "def prepare_X_fillna(df, features, column_fill, value_fill):\n",
    "    df_num = df[features]\n",
    "    if column_fill in features:\n",
    "        df_num = df_num.fillna({column_fill: value_fill})\n",
    "        X = df_num.values\n",
    "    else:\n",
    "        X = None\n",
    "    return X"
   ]
  },
  {
   "cell_type": "code",
   "execution_count": 30,
   "id": "db000b53-e34f-4f8d-9864-40971379c844",
   "metadata": {},
   "outputs": [
    {
     "data": {
      "text/plain": [
       "['ram', 'storage', 'screen']"
      ]
     },
     "execution_count": 30,
     "metadata": {},
     "output_type": "execute_result"
    }
   ],
   "source": [
    "features = ['ram', 'storage', 'screen']\n",
    "features"
   ]
  },
  {
   "cell_type": "code",
   "execution_count": 31,
   "id": "02f87637-3e05-464c-b33b-35ca11d763e1",
   "metadata": {},
   "outputs": [],
   "source": [
    "def rmse(y, y_pred):\n",
    "    mse = ((y_pred - y) ** 2).mean()\n",
    "    return np.sqrt(mse)"
   ]
  },
  {
   "cell_type": "markdown",
   "id": "8911c78e-1b37-487d-8c25-7d748771679d",
   "metadata": {},
   "source": [
    "### fillna column screen = 0"
   ]
  },
  {
   "cell_type": "code",
   "execution_count": 32,
   "id": "e4c30998-3eab-42fb-8773-e6e3f77d4f9d",
   "metadata": {},
   "outputs": [
    {
     "data": {
      "text/plain": [
       "(6.727163706112481, array([ 0.02630589,  0.00066041, -0.03651909]))"
      ]
     },
     "execution_count": 32,
     "metadata": {},
     "output_type": "execute_result"
    }
   ],
   "source": [
    "X_train = prepare_X_fillna(df_train, features, 'screen', 0)\n",
    "w_0, w = train_linear_regression(X_train, y_train)\n",
    "w_0, w"
   ]
  },
  {
   "cell_type": "code",
   "execution_count": 33,
   "id": "5639b692-da55-47ea-9813-84c9e6c7f465",
   "metadata": {},
   "outputs": [
    {
     "data": {
      "text/plain": [
       "0.43"
      ]
     },
     "execution_count": 33,
     "metadata": {},
     "output_type": "execute_result"
    }
   ],
   "source": [
    "X_val = prepare_X_fillna(df_val, features, 'screen', 0)\n",
    "y_pred = w_0 + X_val.dot(w)\n",
    "score = rmse(y_val, y_pred)\n",
    "round(score, 2)"
   ]
  },
  {
   "cell_type": "markdown",
   "id": "d9416f1b-4d8d-4c32-af0e-aaf8f4d84c0f",
   "metadata": {},
   "source": [
    "### fillna column screen = median"
   ]
  },
  {
   "cell_type": "code",
   "execution_count": 34,
   "id": "e815094a-d543-4e30-a55a-53a5d1c6ca14",
   "metadata": {},
   "outputs": [
    {
     "data": {
      "text/plain": [
       "15.163534416086618"
      ]
     },
     "execution_count": 34,
     "metadata": {},
     "output_type": "execute_result"
    }
   ],
   "source": [
    "media_screen = df_train.screen.mean()\n",
    "media_screen"
   ]
  },
  {
   "cell_type": "code",
   "execution_count": 35,
   "id": "4f9d8972-14eb-48de-9e67-7c7d2991a543",
   "metadata": {},
   "outputs": [
    {
     "data": {
      "text/plain": [
       "(6.855566544134296, array([ 0.02650252,  0.00066643, -0.04534341]))"
      ]
     },
     "execution_count": 35,
     "metadata": {},
     "output_type": "execute_result"
    }
   ],
   "source": [
    "X_train = prepare_X_fillna(df_train, features, 'screen', media_screen)\n",
    "w_0, w = train_linear_regression(X_train, y_train)\n",
    "w_0, w"
   ]
  },
  {
   "cell_type": "code",
   "execution_count": 36,
   "id": "3056feb2-7956-43df-80a6-ba95c9e47bdd",
   "metadata": {},
   "outputs": [
    {
     "data": {
      "text/plain": [
       "0.43"
      ]
     },
     "execution_count": 36,
     "metadata": {},
     "output_type": "execute_result"
    }
   ],
   "source": [
    "X_val = prepare_X_fillna(df_val, features, 'screen', media_screen)\n",
    "y_pred = w_0 + X_val.dot(w)\n",
    "score = rmse(y_val, y_pred)\n",
    "round(score, 2)"
   ]
  },
  {
   "cell_type": "markdown",
   "id": "c01b4e8f-88f3-4d02-95e9-2fc1483ad70c",
   "metadata": {},
   "source": [
    "## Question 4"
   ]
  },
  {
   "cell_type": "code",
   "execution_count": 37,
   "id": "833aa668-4fd7-4d64-b14e-313570d99866",
   "metadata": {},
   "outputs": [],
   "source": [
    "def train_linear_regression_reg(X, y, r=0):\n",
    "    ones = np.ones(X.shape[0])\n",
    "    X = np.column_stack([ones, X])\n",
    "\n",
    "    XTX = X.T.dot(X)\n",
    "    reg = r * np.eye(XTX.shape[0])\n",
    "    XTX += reg\n",
    "    \n",
    "    XTX_inv = np.linalg.inv(XTX)\n",
    "    w = XTX_inv.dot(X.T).dot(y)\n",
    "    \n",
    "    return w[0], w[1:]"
   ]
  },
  {
   "cell_type": "code",
   "execution_count": 38,
   "id": "e985db47-06b0-4b46-bf42-1d7a3f11635e",
   "metadata": {},
   "outputs": [],
   "source": [
    "list_r = [0, 0.01, 0.1, 1, 5, 10, 100]"
   ]
  },
  {
   "cell_type": "code",
   "execution_count": 39,
   "id": "eb59a2e8-a9e9-4aba-a985-d13506752ca9",
   "metadata": {},
   "outputs": [
    {
     "name": "stdout",
     "output_type": "stream",
     "text": [
      "alpha:0 \trmse:0.43 \tw_0:6.727163706112481\n",
      "alpha:0.01 \trmse:0.43 \tw_0:6.721004333260219\n",
      "alpha:0.1 \trmse:0.43 \tw_0:6.666075503828108\n",
      "alpha:1 \trmse:0.43 \tw_0:6.162616499461252\n",
      "alpha:5 \trmse:0.46 \tw_0:4.616086176497313\n",
      "alpha:10 \trmse:0.51 \tw_0:3.5167547207936254\n",
      "alpha:100 \trmse:0.67 \tw_0:0.6849263362660136\n"
     ]
    }
   ],
   "source": [
    "X_train = prepare_X_fillna(df_train, features, 'screen', 0)\n",
    "X_val = prepare_X_fillna(df_val, features, 'screen', 0)\n",
    "\n",
    "for value_r in list_r:\n",
    "    w_0, w = train_linear_regression_reg(X_train, y_train, value_r)\n",
    "    y_pred = w_0 + X_val.dot(w)\n",
    "    score = rmse(y_val, y_pred)\n",
    "\n",
    "    print(f'alpha:{value_r:5<} \\trmse:{round(score, 2):5<} \\tw_0:{w_0:8<}')\n",
    "    "
   ]
  },
  {
   "cell_type": "markdown",
   "id": "71d1a5d8-2b8a-4dad-bc73-d1ab700308c1",
   "metadata": {},
   "source": [
    "## Question 5"
   ]
  },
  {
   "cell_type": "code",
   "execution_count": 40,
   "id": "e911f968-f5ab-4295-bf53-c2134e645fcd",
   "metadata": {},
   "outputs": [],
   "source": [
    "def spli_data(dataFrame, target, test_per=0.2, val_per=0.2, seed=0, standardize=True):\n",
    "    np.random.seed(seed)\n",
    "    n = dataFrame.shape[0]\n",
    "\n",
    "    n_test = int(val_per * n)\n",
    "    n_val = int(test_per * n)\n",
    "    n_train = n - (n_val + n_test)\n",
    "\n",
    "    idx = np.arange(n)\n",
    "    np.random.shuffle(idx)\n",
    "\n",
    "    df_shuffled = dataFrame.iloc[idx]\n",
    "    df_shuffled.reset_index(inplace=True)\n",
    "\n",
    "    df_train = df_shuffled.iloc[:n_train].copy()\n",
    "    df_val = df_shuffled.iloc[n_train:n_train+n_val].copy()\n",
    "    df_test = df_shuffled.iloc[n_train+n_val:].copy()\n",
    "\n",
    "    if standardize:\n",
    "        y_train = np.log1p(df_train[target].values)\n",
    "        y_val = np.log1p(df_val[target].values)\n",
    "        y_test = np.log1p(df_test[target].values)\n",
    "    else:\n",
    "        y_train = df_train[target].values\n",
    "        y_val = df_val[target].values\n",
    "        y_test = df_test[target].values\n",
    "\n",
    "    df_train.drop(columns=[target], inplace=True)\n",
    "    df_val.drop(columns=[target], inplace=True)\n",
    "    df_test.drop(columns=[target], inplace=True)\n",
    "    \n",
    "    return {'train': {'X': df_train, 'y': y_train}, 'val': {'X': df_val, 'y': y_val}, 'test': {'X': df_test, 'y': y_test}}"
   ]
  },
  {
   "cell_type": "code",
   "execution_count": 41,
   "id": "ad9f33de-1ee2-4252-8cc9-c50eb962a303",
   "metadata": {},
   "outputs": [],
   "source": [
    "def train_predict_model(dict_train_valid_test, features, alpha=None):\n",
    "\n",
    "    X_train = prepare_X_fillna(dict_train_valid_test['train']['X'], features, 'screen', 0)\n",
    "\n",
    "    if alpha:\n",
    "        w_0, w = train_linear_regression_reg(X_train, dict_train_valid_test['train']['y'], alpha)\n",
    "    else:\n",
    "        w_0, w = train_linear_regression(X_train, dict_train_valid_test['train']['y'])\n",
    "        \n",
    "    X_val = prepare_X_fillna(dict_train_valid_test['val']['X'], features, 'screen', 0)\n",
    "\n",
    "    return w_0 + X_val.dot(w)"
   ]
  },
  {
   "cell_type": "code",
   "execution_count": 42,
   "id": "f06f649f-cfa3-422a-a8fd-8306f2f28c47",
   "metadata": {},
   "outputs": [
    {
     "name": "stdout",
     "output_type": "stream",
     "text": [
      "semilla:0 \trmse:565.45209 \tw_0:0.6849263362660136\n",
      "semilla:1 \trmse:636.79854 \tw_0:0.6849263362660136\n",
      "semilla:2 \trmse:588.95587 \tw_0:0.6849263362660136\n",
      "semilla:3 \trmse:597.81489 \tw_0:0.6849263362660136\n",
      "semilla:4 \trmse:571.96279 \tw_0:0.6849263362660136\n",
      "semilla:5 \trmse:573.23833 \tw_0:0.6849263362660136\n",
      "semilla:6 \trmse:647.34383 \tw_0:0.6849263362660136\n",
      "semilla:7 \trmse:550.43982 \tw_0:0.6849263362660136\n",
      "semilla:8 \trmse:587.3335 \tw_0:0.6849263362660136\n",
      "semilla:9 \trmse:576.10179 \tw_0:0.6849263362660136\n"
     ]
    }
   ],
   "source": [
    "list_semilla = [0, 1, 2, 3, 4, 5, 6, 7, 8, 9]\n",
    "features = ['ram', 'storage', 'screen']\n",
    "list_rmse = list()\n",
    "\n",
    "for semilla in list_semilla:\n",
    "    dict_train_valid_test = spli_data(df, 'final_price', test_per=0.2, val_per=0.2, seed=semilla, standardize=False)\n",
    "    y_pred = train_predict_model(dict_train_valid_test, features)\n",
    "    \n",
    "    score = rmse(dict_train_valid_test['val']['y'], y_pred)\n",
    "    list_rmse.append(score)\n",
    "\n",
    "    print(f'semilla:{semilla:3<} \\trmse:{round(score, 5):5<} \\tw_0:{w_0:8<}')"
   ]
  },
  {
   "cell_type": "code",
   "execution_count": 43,
   "id": "7bf6b2b3-7079-43fd-a006-0b06d8ce2d43",
   "metadata": {},
   "outputs": [
    {
     "name": "stdout",
     "output_type": "stream",
     "text": [
      "rmse std:29.176\n"
     ]
    }
   ],
   "source": [
    "np_rmse = np.array(list_rmse)\n",
    "std = np_rmse.std()\n",
    "\n",
    "print(f'rmse std:{round(std, 3):8<}')"
   ]
  },
  {
   "cell_type": "markdown",
   "id": "d03f9840-bf05-4468-ac82-025da4189c11",
   "metadata": {},
   "source": [
    "## Question 6"
   ]
  },
  {
   "cell_type": "code",
   "execution_count": 44,
   "id": "22d529e7-a690-4cbd-a0d5-2cbba1fee00c",
   "metadata": {},
   "outputs": [],
   "source": [
    "def spli_data(dataFrame, target, test_per=0.2, val_per=0.2, seed=0, standardize=True, join_train_tes=False):\n",
    "    np.random.seed(seed)\n",
    "    n = dataFrame.shape[0]\n",
    "\n",
    "    n_test = int(val_per * n)\n",
    "    n_val = int(test_per * n)\n",
    "    n_train = n - (n_val + n_test)\n",
    "\n",
    "    idx = np.arange(n)\n",
    "    np.random.shuffle(idx)\n",
    "\n",
    "    df_shuffled = dataFrame.iloc[idx]\n",
    "    df_shuffled.reset_index(inplace=True)\n",
    "\n",
    "    df_train = df_shuffled.iloc[:n_train].copy()\n",
    "    df_val = df_shuffled.iloc[n_train:n_train+n_val].copy()\n",
    "    df_test = df_shuffled.iloc[n_train+n_val:].copy()\n",
    "\n",
    "    if standardize:\n",
    "        y_train = np.log1p(df_train[target].values)\n",
    "        y_val = np.log1p(df_val[target].values)\n",
    "        y_test = np.log1p(df_test[target].values)\n",
    "    else:\n",
    "        y_train = df_train[target].values\n",
    "        y_val = df_val[target].values\n",
    "        y_test = df_test[target].values\n",
    "\n",
    "    df_train.drop(columns=[target], inplace=True)\n",
    "    df_val.drop(columns=[target], inplace=True)\n",
    "    df_test.drop(columns=[target], inplace=True)\n",
    "\n",
    "    if join_train_tes:\n",
    "        df_train_full = pd.concat([df_train, df_val])\n",
    "        y_train_full = np.concatenate((y_train, y_val))\n",
    "\n",
    "        return {'train_full': {'X': df_train_full, 'y': y_train_full}, 'test': {'X': df_test, 'y': y_test}}\n",
    "    else:\n",
    "        return {'train': {'X': df_train, 'y': y_train}, 'val': {'X': df_val, 'y': y_val}, 'test': {'X': df_test, 'y': y_test}}"
   ]
  },
  {
   "cell_type": "code",
   "execution_count": 45,
   "id": "2c2f11f0-737d-4576-bb73-f74dd3771a2a",
   "metadata": {},
   "outputs": [],
   "source": [
    "def train_predict_model(dict_train_valid_test, features, alpha=None, use_train_full=False):\n",
    "\n",
    "    if use_train_full:\n",
    "        y_train = dict_train_valid_test['train_full']['y']\n",
    "        X_train = prepare_X_fillna(dict_train_valid_test['train_full']['X'], features, 'screen', 0)\n",
    "        X_val = prepare_X_fillna(dict_train_valid_test['test']['X'], features, 'screen', 0)\n",
    "    else:\n",
    "        y_train = dict_train_valid_test['train']['y']\n",
    "        X_train = prepare_X_fillna(dict_train_valid_test['train']['X'], features, 'screen', 0)\n",
    "        X_val = prepare_X_fillna(dict_train_valid_test['val']['X'], features, 'screen', 0)\n",
    "\n",
    "    if alpha:\n",
    "        w_0, w = train_linear_regression_reg(X_train, y_train, alpha)\n",
    "    else:\n",
    "        w_0, w = train_linear_regression(X_train, y_train)\n",
    "\n",
    "    return w_0 + X_val.dot(w)"
   ]
  },
  {
   "cell_type": "code",
   "execution_count": 46,
   "id": "051b4d46-0a4f-4d4c-aa1b-05d4dddacb3c",
   "metadata": {},
   "outputs": [
    {
     "name": "stdout",
     "output_type": "stream",
     "text": [
      "semilla:9 \trmse:608.60998 \tw_0:0.6849263362660136\n"
     ]
    }
   ],
   "source": [
    "list_semilla = [9]\n",
    "features = ['ram', 'storage', 'screen']\n",
    "alpha = 0.001\n",
    "\n",
    "for semilla in list_semilla:\n",
    "    dict_train_valid_test = spli_data(df, 'final_price', test_per=0.2, val_per=0.2, seed=semilla, standardize=False, join_train_tes=True)\n",
    "    y_pred = train_predict_model(dict_train_valid_test, features, alpha=alpha, use_train_full=True)\n",
    "    \n",
    "    score = rmse(dict_train_valid_test['test']['y'], y_pred)\n",
    "    list_rmse.append(score)\n",
    "\n",
    "    print(f'semilla:{semilla:3<} \\trmse:{round(score, 5):5<} \\tw_0:{w_0:8<}')\n",
    "\n"
   ]
  }
 ],
 "metadata": {
  "kernelspec": {
   "display_name": "Python 3 (ipykernel)",
   "language": "python",
   "name": "python3"
  },
  "language_info": {
   "codemirror_mode": {
    "name": "ipython",
    "version": 3
   },
   "file_extension": ".py",
   "mimetype": "text/x-python",
   "name": "python",
   "nbconvert_exporter": "python",
   "pygments_lexer": "ipython3",
   "version": "3.11.9"
  }
 },
 "nbformat": 4,
 "nbformat_minor": 5
}
